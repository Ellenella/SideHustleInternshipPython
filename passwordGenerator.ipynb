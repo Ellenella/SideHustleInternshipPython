{
 "cells": [
  {
   "cell_type": "code",
   "execution_count": 42,
   "metadata": {},
   "outputs": [],
   "source": [
    "import string \n",
    "import random"
   ]
  },
  {
   "cell_type": "code",
   "execution_count": 43,
   "metadata": {},
   "outputs": [],
   "source": [
    "def passwordGenerator():\n",
    "    pass_length = 15    #put the password length\n",
    "    characters = list(string.ascii_letters + string.digits + string.punctuation) #the characters for the password\n",
    "    random.shuffle(characters)   #shuffle the characters\n",
    "    password = [random.choice(characters) for i in range(pass_length) ]    #pick random from the characters\n",
    "    random.shuffle(password) #shuffle the random characters picked\n",
    "    print(''.join(password))  #convert the list to string and print"
   ]
  },
  {
   "cell_type": "code",
   "execution_count": 44,
   "metadata": {},
   "outputs": [
    {
     "name": "stdout",
     "output_type": "stream",
     "text": [
      "ewve9NS$|;[&\\U6\n"
     ]
    }
   ],
   "source": [
    "passwordGenerator() #invoke the function"
   ]
  },
  {
   "cell_type": "code",
   "execution_count": null,
   "metadata": {},
   "outputs": [],
   "source": []
  }
 ],
 "metadata": {
  "kernelspec": {
   "display_name": "Python 3",
   "language": "python",
   "name": "python3"
  },
  "language_info": {
   "codemirror_mode": {
    "name": "ipython",
    "version": 3
   },
   "file_extension": ".py",
   "mimetype": "text/x-python",
   "name": "python",
   "nbconvert_exporter": "python",
   "pygments_lexer": "ipython3",
   "version": "3.7.4"
  }
 },
 "nbformat": 4,
 "nbformat_minor": 2
}
